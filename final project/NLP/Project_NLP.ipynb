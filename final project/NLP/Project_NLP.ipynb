{
  "cells": [
    {
      "cell_type": "markdown",
      "metadata": {
        "id": "TmJ3wkyzLQDf"
      },
      "source": [
        "# Latent Semantic Analysis"
      ]
    },
    {
      "cell_type": "markdown",
      "metadata": {
        "id": "3Q8d3xCnLQDh"
      },
      "source": [
        "## Introduction"
      ]
    },
    {
      "cell_type": "markdown",
      "metadata": {
        "id": "KVOZhCgILQDi"
      },
      "source": [
        "Linear algebra plays a pivotal role in various fields, offering powerful tools\n",
        "and techniques for solving complex problems and extracting meaningful insights from data. One intriguing application of linear algebra in the realm of natural language processing and information retrieval is Latent Semantic Analysis (LSA). LSA is a mathematical and statistical method that involves the application of singular value decomposition (SVD) to large datasets, commonly represented in matrix form, with the aim of uncovering latent semantic structures within the data."
      ]
    },
    {
      "cell_type": "markdown",
      "metadata": {
        "id": "qu5A8qeaLQDi"
      },
      "source": [
        "## Dataset"
      ]
    },
    {
      "cell_type": "markdown",
      "metadata": {
        "id": "pZ2N420-LQDi"
      },
      "source": [
        "\n",
        "The fetch_20newsgroups dataset from scikit-learn's datasets module is a popular text dataset commonly used for natural language processing and machine learning tasks, particularly for text classification and clustering. This dataset comprises a collection of approximately 20,000 newsgroup documents, spanning 20 different newsgroups or categories. Each newsgroup represents discussions on a specific topic or theme, and the dataset as a whole reflects the diversity of topics discussed in online forums during the late 1990s. In this assignment, We'll only use 5 of the 20 newsgroups for simplicity and efficiency."
      ]
    },
    {
      "cell_type": "code",
      "execution_count": 21,
      "metadata": {
        "id": "Lm5qZuiwLQDj"
      },
      "outputs": [],
      "source": [
        "from sklearn.datasets import fetch_20newsgroups\n",
        "from sklearn.feature_extraction.text import CountVectorizer\n",
        "from scipy.sparse import csr_matrix\n",
        "import numpy as np\n",
        "import scipy\n",
        "import matplotlib.pyplot as plt\n",
        "\n",
        "categories =  ['alt.atheism', 'soc.religion.christian', 'comp.graphics', 'sci.electronics', 'sci.space']\n",
        "train = fetch_20newsgroups(subset='train', categories=categories, shuffle=True, random_state=42)"
      ]
    },
    {
      "cell_type": "markdown",
      "metadata": {
        "id": "P7nHIbruLQDj"
      },
      "source": [
        "## Demonstration"
      ]
    },
    {
      "cell_type": "code",
      "execution_count": 22,
      "metadata": {
        "id": "eSYtvxn8LQDj",
        "outputId": "c13a6421-7edf-4e42-d6a5-950b0fa31b4b",
        "colab": {
          "base_uri": "https://localhost:8080/"
        }
      },
      "outputs": [
        {
          "output_type": "stream",
          "name": "stdout",
          "text": [
            "From: halsall@murray.fordham.edu (Paul Halsall)\n",
            "Subject: Catholic Liturgy\n",
            "Reply-To: halsall@murray.fordham.edu\n",
            "Organization: J. Random Misconfigured Site\n",
            "Lines: 60\n",
            "\n",
            "\n",
            "\tThe problems with Catholic liturgy are likely to continue for\n",
            "some time.  The problem is, in a nutshell, this: the Liturgy is a\n",
            "symbolic action - in other words Catholics do [or should] believe that\n",
            "the _signs_ during the mass - Water, Blessings, Vestments, Altar,\n",
            "Relics, etc - are real. That is the sprinkling of water bestows real,\n",
            "almost tangible, holiness, the Vestments are a real indication of real\n",
            "sacred time. The point of a _symbol_ is that it is understood by all\n",
            "to be connected to an underlying REAL referent. This kind of thinking\n",
            "precludes analysis; holy water is not holy because of anything, it\n",
            "simply IS holy.\n",
            "\n",
            "But, modern westerners find it extremely difficult, especially if\n",
            "well- educated, to think of the mass as a symbol. We are more likely\n",
            "to see it as a _sign_, ie an action that represents grace, but which\n",
            "could be replaced with other signs. In concrete terms, this means the\n",
            "mass has become a commercial for God's grace rather than the real\n",
            "thing. You can mess around with a commercial in a way you wouldn't\n",
            "dare with the real thing [ask Coca-Cola Co.!]. These attitudes have\n",
            "been encouraged by Liturgy workshops, etc. which instead of focusing\n",
            "on _how_ to do do liturgy, have focused on how to create a meaning in\n",
            "liturgy. You can only create signs, symbols have to come from God [or\n",
            "the heart, or somewhere deeper than analysis. The most dramatic\n",
            "example of this shift in understanding has been in the treatment of\n",
            "the sacred species [the consecrated host and wine]. Now, with pita\n",
            "bread etc, it is common to come away from the altar with hands covered\n",
            "in particles. If the Host is a sign of Grace, this isnt and issue; but\n",
            "Catholics in the past would have been distraught at this real\n",
            "desacration of the real symbol of Jesus' body.\n",
            "\n",
            "Modern Catholic liturgy  is caught in this epistemological shift. We\n",
            "try to perfrom the old rites, but then we have some liturgomaniac\n",
            "priest get up and 'explain' what we are doing - so we stop doing it and\n",
            "start pretending to do it. This is not a soul filling experience.\n",
            "It doesn't help BTW that we have got stuck witha huge amount of two and\n",
            "three chord ersatz-folk music [again a result of mis-analysis: complicated\n",
            "tunes are in fact easier to remember than simple ones - this was the\n",
            "genius of Wesley and the 19C Anglican hymn writers]. Taize' is only\n",
            "slightly better.\n",
            "\n",
            "What are we to do? Well I suggest rejecting the parish system if it\n",
            "doesn't work for you. Search out a Church where the liturgy is well\n",
            "prepared not well-explained. They exist in every city. This is not BTW\n",
            "a matter of particular style: the music might be old or new. It is\n",
            "the attitude of the church that counts. Also, note that a conservative\n",
            "liturgy - harking back to pre-Vatican II days, does not necessarily mean\n",
            "the Church will be socially conservative.\n",
            "\n",
            "In NYC I can recommend:\n",
            "\tCorpus Christi - W 12st St.\n",
            "\tCorpus Christi - W 12st St. - very conservative liturgy, \n",
            "\tSt. Joseph's, Greenwich Village.  - Modern, \"clean\", largely gay\n",
            "\tOratorian Church, Brooklyn - Very beautiful\n",
            "\n",
            "Avoid, anywhere, anytime a church with electric candles.\n",
            "\n",
            "Happy Easter: Christos Aneste', Christos Voskrezhne, Christ is Risen\n",
            "\n",
            "Paul Halsall\n",
            "Halsall@murray.fordham.edu\n",
            "\n",
            "2847\n"
          ]
        }
      ],
      "source": [
        "print(train.data[0])\n",
        "print(len(train.data))"
      ]
    },
    {
      "cell_type": "markdown",
      "metadata": {
        "id": "jFsPivaPLQDk"
      },
      "source": [
        "## Document-term co-occurrence Matrix"
      ]
    },
    {
      "cell_type": "markdown",
      "metadata": {
        "id": "nSJnsYRELQDk"
      },
      "source": [
        "In a document-term co-occurrence matrix, each row corresponds to a document in the dataset, and each column corresponds to a unique term. The entry in cell $M_{ij}$ represents the frequency of term $j$ occurring in document\n",
        "$i$. Now create the co-occurrence matrix using `CountVectorizer`.\n",
        "analyze the sparsity of $M$ and $M^TM$."
      ]
    },
    {
      "cell_type": "code",
      "execution_count": 23,
      "metadata": {
        "id": "uYpPYw_ULQDk",
        "outputId": "2b7ccc92-3c8b-40c7-d0a8-7625ba0b4065",
        "colab": {
          "base_uri": "https://localhost:8080/"
        }
      },
      "outputs": [
        {
          "output_type": "stream",
          "name": "stdout",
          "text": [
            "data dimensions:  (2847, 40182)\n",
            "is data sparse?  True\n",
            "sparsity =  99.61398940056323\n",
            "data dimensions:  (40182, 40182)\n",
            "is data sparse?  True\n",
            "sparsity =  96.20188906490104\n"
          ]
        }
      ],
      "source": [
        "def vectorize(train_data):\n",
        "    # TODO: Vectorize the training data using count vectorizer\n",
        "    CV = CountVectorizer()\n",
        "    co_matrix = CV.fit_transform(train_data)\n",
        "    return CV, co_matrix\n",
        "\n",
        "def analyze(data):\n",
        "    # TODO: print Shape, Is Sparse and Sparsity using scipy\n",
        "    print(\"data dimensions: \", data.shape)\n",
        "    print(\"is data sparse? \", scipy.sparse.isspmatrix(data))\n",
        "    sparcity = 1 - data.nnz / (data.shape[0] * data.shape[1])\n",
        "    sparcity *= 100\n",
        "    print(\"sparsity = \", sparcity)\n",
        "\n",
        "count_vect, X_train_counts = vectorize(train.data)\n",
        "analyze(X_train_counts)\n",
        "C = X_train_counts.T * X_train_counts\n",
        "analyze(C)"
      ]
    },
    {
      "cell_type": "markdown",
      "metadata": {
        "id": "d_g6knR2LQDk"
      },
      "source": [
        "## Singular Value Decomposition"
      ]
    },
    {
      "cell_type": "markdown",
      "metadata": {
        "id": "ZmLa8KBLLQDl"
      },
      "source": [
        "The next step involves finding the Singular Value Decomposition (SVD) matrix and embedding the data into a reduced-dimensional space. Describe the process of obtaining the SVD for the document-term co-occurrence matrix. What are the resulting matrices $(U, Σ, V^T)$, and how do they relate to the original matrix."
      ]
    },
    {
      "cell_type": "code",
      "execution_count": 24,
      "metadata": {
        "id": "1VHuaZe3LQDl",
        "outputId": "006a3143-32f3-499e-9cb3-77f7808ab29b",
        "colab": {
          "base_uri": "https://localhost:8080/"
        }
      },
      "outputs": [
        {
          "output_type": "stream",
          "name": "stdout",
          "text": [
            "U: (40182, 2)\n",
            "S: (2,)\n",
            "V^H: (2, 40182)\n",
            "the orginal matrix is reconstructed using U * S * V^H\n"
          ]
        }
      ],
      "source": [
        "# TODO: Use SVD to decompose C into U, S, V^H using scipy\n",
        "u , s , vh = scipy.sparse.linalg.svds(C.astype(float), k=2)\n",
        "print(f'U: {u.shape}')\n",
        "print(f'S: {s.shape}')\n",
        "print(f'V^H: {vh.shape}')\n",
        "print(\"the orginal matrix is reconstructed using U * S * V^H\")"
      ]
    },
    {
      "cell_type": "markdown",
      "metadata": {
        "id": "U7mKOKB1LQDl"
      },
      "source": [
        "Define the concept of choosing the top-k singular values in the context of the Σ matrix obtained from SVD. What does it mean to truncate the singular values, and how does this process contribute to dimensionality reduction. Discuss the criteria or considerations involved in selecting an appropriate value for k. How might the choice of k impact the quality of the resulting reduced-dimensional space and the representation of latent semantic structures."
      ]
    },
    {
      "cell_type": "code",
      "execution_count": 25,
      "metadata": {
        "id": "Exz2piJdLQDl"
      },
      "outputs": [],
      "source": [
        "### by choosing the top k singular values of a matrix, in the reconstructed matrix\n",
        "### we will see a matrix with lower rank than orginal matrix by removing less important singular values\n",
        "### this is called a truncated svd\n",
        "### for finding the best k, we will have to look at our needs and resources to decide how much information to keep"
      ]
    },
    {
      "cell_type": "markdown",
      "metadata": {
        "id": "YF_nsxElLQDl"
      },
      "source": [
        "Calculate the new matrix resulting from the truncated SVD with the chosen top-k singular values."
      ]
    },
    {
      "cell_type": "code",
      "execution_count": 26,
      "metadata": {
        "id": "2MLh1pluLQDl"
      },
      "outputs": [],
      "source": [
        "# reconstructed_matrix = np.linalg.multi_dot([u, np.diag(s), vh])"
      ]
    },
    {
      "cell_type": "markdown",
      "metadata": {
        "id": "1Rzy4ZXpLQDl"
      },
      "source": [
        "Discuss the interpretation of the resulting matrices U and V. How do these matrices contribute to the understanding of semantic relationships between documents and terms."
      ]
    },
    {
      "cell_type": "code",
      "execution_count": 27,
      "metadata": {
        "id": "EL4UAC6XLQDl"
      },
      "outputs": [],
      "source": [
        "### U and V are eigenvectors of M^TM or singularvectors of M, which tell us about the relation of terms and documents\n",
        "### U shows a linear combanation of terms that construct the documents\n",
        "### V represents a linear combanation of documents that create the terms"
      ]
    },
    {
      "cell_type": "markdown",
      "metadata": {
        "id": "cNrP9OEJLQDm"
      },
      "source": [
        "## Word Embedding"
      ]
    },
    {
      "cell_type": "markdown",
      "metadata": {
        "id": "4yzUMgp4LQDm"
      },
      "source": [
        "Word embedding is a technique used to map words from a vocabulary to vectors of real numbers. These vectors capture the semantic relationships between words in a geometric space, where words that share similar meanings are mapped to similar vectors. Word embedding is a popular approach in natural language processing and information retrieval, and is commonly used in the development of language models in machine learning. We use the $i$ th row of $U$ as the embedding vector for the $i$ th word in the vocabulary."
      ]
    },
    {
      "cell_type": "code",
      "execution_count": 28,
      "metadata": {
        "id": "Om3OZXRDLQDm",
        "outputId": "fb9f7821-d057-47e7-8f77-bdedf4d570b3",
        "colab": {
          "base_uri": "https://localhost:8080/"
        }
      },
      "outputs": [
        {
          "output_type": "stream",
          "name": "stdout",
          "text": [
            "similarity of `mahdi` and `game`: 0.9979142684357539\n",
            "similarity of `game` and `baseball`: 0.8961442259704014\n",
            "similarity of `evil` and `friend`: 0.20548988419663547\n",
            "similarity of `good` and `game`: 0.4939271494953208\n",
            "similarity of `baseball` and `mahdi`: 0.9229214164398979\n",
            "similarity of `good` and `evil`: -0.023541425726420918\n"
          ]
        }
      ],
      "source": [
        "def cosine_similarity(a, b):\n",
        "    # TODO: Compute cosine similarity between a and b\n",
        "    return np.dot(a, b) / (np.linalg.norm(a) * np.linalg.norm(b))\n",
        "\n",
        "def word_similarity(word1, word2):\n",
        "    # TODO: Compute cosine similarity between word1 string and word2 string\n",
        "    sim = cosine_similarity(u[count_vect.vocabulary_[word1]],u[count_vect.vocabulary_[word2]])\n",
        "    return sim\n",
        "\n",
        "print(f\"similarity of `mahdi` and `game`: {word_similarity('mahdi', 'game')}\")\n",
        "print(f\"similarity of `game` and `baseball`: {word_similarity('game', 'baseball')}\")\n",
        "print(f\"similarity of `evil` and `friend`: {word_similarity('evil', 'friend')}\")\n",
        "print(f\"similarity of `good` and `game`: {word_similarity('good', 'game')}\")\n",
        "print(f\"similarity of `baseball` and `mahdi`: {word_similarity('baseball', 'mahdi')}\")\n",
        "print(f\"similarity of `good` and `evil`: {word_similarity('good', 'evil')}\")"
      ]
    },
    {
      "cell_type": "markdown",
      "metadata": {
        "id": "s78suZiMLQDn"
      },
      "source": [
        "## Plot Embeddings"
      ]
    },
    {
      "cell_type": "code",
      "execution_count": 29,
      "metadata": {
        "id": "iyIULblqLQDn",
        "outputId": "4c42a7e6-cc92-47a9-c63e-25b659c9cdcb",
        "colab": {
          "base_uri": "https://localhost:8080/",
          "height": 434
        }
      },
      "outputs": [
        {
          "output_type": "display_data",
          "data": {
            "text/plain": [
              "<Figure size 640x480 with 1 Axes>"
            ],
            "image/png": "[encoded data removed]"
          },
          "metadata": {}
        }
      ],
      "source": [
        "def plot_word(word):\n",
        "    # TODO: plot the absolute value of the word vector\n",
        "    # TODO: add the word label to the plot\n",
        "    vec = u[count_vect.vocabulary_[word]]\n",
        "    plt.scatter(abs(vec[0]),abs(vec[1]), label=word, color='purple')\n",
        "    plt.annotate(word, (abs(vec[0]),abs(vec[1])), label=word)\n",
        "    pass\n",
        "\n",
        "\n",
        "# plot embeddings with norms less than 0.1\n",
        "norms = np.linalg.norm(u, axis=1)\n",
        "filtered_embeddings = u[norms < 0.1]\n",
        "plt.scatter(np.abs(filtered_embeddings[:, 0]), np.abs(filtered_embeddings[:, 1]), label='Embeddings with norms < 0.1', color='orange', s = 1)\n",
        "\n",
        "plot_word('mahdi')\n",
        "plot_word('game')\n",
        "plot_word('baseball')\n",
        "plot_word('evil')\n",
        "plot_word('good')\n",
        "plot_word('friend')\n",
        "# set x and y scales to logaritmic for better visualization\n",
        "plt.xscale('log')\n",
        "plt.yscale('log')\n",
        "plt.show()"
      ]
    },
    {
      "cell_type": "markdown",
      "metadata": {
        "id": "WquGHm42LQDn"
      },
      "source": [
        "# Word2Vec (Optional)"
      ]
    },
    {
      "cell_type": "markdown",
      "metadata": {
        "id": "DfcNVrUOLQDn"
      },
      "source": [
        "Word2Vec is a popular word embedding technique that involves the use of neural networks to learn word embeddings from large datasets. The Word2Vec model is trained on a large corpus of text, and the resulting word vectors demonstrate interesting semantic relationships between words. In this assignment, we'll explore the use of Word2Vec to learn word embeddings from the 20 newsgroups dataset.\n",
        "\n",
        "Word2Vec is mainly implemented in two ways: continuous bag-of-words (CBOW) and skip-gram. In this assignment, we'll use the CBOW model to train word embeddings on the 20 newsgroups dataset. CBOW predicts the current word based on a window of surrounding context words. The skip-gram model, on the other hand, predicts the surrounding context words based on the current word.\n",
        "\n",
        "![image.png](attachment:image.png)"
      ]
    },
    {
      "cell_type": "markdown",
      "metadata": {
        "id": "B8HgyEXVLQDn"
      },
      "source": [
        "## Preprocessing"
      ]
    },
    {
      "cell_type": "markdown",
      "metadata": {
        "id": "89Rh9sJlLQDn"
      },
      "source": [
        "We'll remove stopwords and lemmatize the text data using the WordNetLemmatizer from the nltk package. We'll also remove punctuation and convert all text to lowercase.\n",
        "Then we create a list of windows of context words for each word in the corpus. The size of the window is a hyperparameter that can be tuned to improve the performance of the model. We'll use a window size of 2 for this assignment."
      ]
    },
    {
      "cell_type": "code",
      "execution_count": null,
      "metadata": {
        "id": "9hR0PIDQLQDn",
        "colab": {
          "base_uri": "https://localhost:8080/"
        },
        "outputId": "85a3b573-dff7-4bfa-f618-43e1cea02cbb"
      },
      "outputs": [
        {
          "output_type": "stream",
          "name": "stderr",
          "text": [
            "[nltk_data] Downloading package punkt to /root/nltk_data...\n",
            "[nltk_data]   Package punkt is already up-to-date!\n",
            "[nltk_data] Downloading package stopwords to /root/nltk_data...\n",
            "[nltk_data]   Package stopwords is already up-to-date!\n"
          ]
        }
      ],
      "source": [
        "from nltk.tokenize import word_tokenize\n",
        "from nltk.corpus import stopwords\n",
        "import nltk\n",
        "nltk.download('punkt')\n",
        "nltk.download('stopwords')\n",
        "\n",
        "def clean_data(train_data):\n",
        "    cleaned_words = []\n",
        "    words_index = {}\n",
        "    for text in train_data:\n",
        "        text = text.lower()\n",
        "        text = text.replace('\\n', ' ')\n",
        "        tokenized_data = word_tokenize(text)\n",
        "        stop_words = set(stopwords.words('english'))\n",
        "        stop_words.update(['.',',',':',';','(',')','#','--','...','\"'])\n",
        "        cleaned_words += [word for word in tokenized_data if word not in stop_words]\n",
        "    for word in cleaned_words:\n",
        "        if word not in words_index:\n",
        "            words_index[word] = len(words_index)\n",
        "    windows = []\n",
        "    for i in range(2, len(cleaned_words) - 2):\n",
        "        window = [cleaned_words[i - 2], cleaned_words[i - 1], cleaned_words[i + 1], cleaned_words[i + 2]]\n",
        "        window = [words_index[word] for word in window]\n",
        "        windows.append((window, words_index[cleaned_words[i]]))\n",
        "    return windows, words_index\n",
        "\n",
        "windows, words_index = clean_data(train.data)"
      ]
    },
    {
      "cell_type": "code",
      "execution_count": 31,
      "metadata": {
        "id": "gYLVSkJPLQDn",
        "outputId": "730105e2-1d75-4943-d6ec-4ea753844a9b",
        "colab": {
          "base_uri": "https://localhost:8080/"
        }
      },
      "outputs": [
        {
          "output_type": "execute_result",
          "data": {
            "text/plain": [
              "48081"
            ]
          },
          "metadata": {},
          "execution_count": 31
        }
      ],
      "source": [
        "len(words_index)"
      ]
    },
    {
      "cell_type": "code",
      "execution_count": 42,
      "metadata": {
        "id": "9XI1P0JZLQDn"
      },
      "outputs": [],
      "source": [
        "from torch.utils.data import Dataset, DataLoader\n",
        "import torch\n",
        "\n",
        "class CorpusWindows(Dataset):\n",
        "    def __init__(self, windows):\n",
        "        self.windows = windows\n",
        "\n",
        "\n",
        "    def __len__(self):\n",
        "        # TODO: return the number of windows\n",
        "        return len(self.windows)\n",
        "\n",
        "    def __getitem__(self, idx):\n",
        "        # TODO: return the idx-th window and its center word\n",
        "        window = self.windows[idx]\n",
        "        return torch.tensor(window[0]) , torch.tensor(window[1])\n",
        "\n",
        "\n",
        "# TODO: create a dataloader for windows\n",
        "data_loader = DataLoader(CorpusWindows(windows), batch_size=64, shuffle=True)"
      ]
    },
    {
      "cell_type": "code",
      "execution_count": 43,
      "metadata": {
        "id": "LRlBN05nLQDo"
      },
      "outputs": [],
      "source": [
        "from torch import nn\n",
        "\n",
        "class CBOW(nn.Module):\n",
        "    def __init__(self, vocab_size, embedding_dim):\n",
        "        super(CBOW, self).__init__()\n",
        "        # TODO: initialize embeddings and linear layers\n",
        "        self.embeddings = nn.Embedding(vocab_size, embedding_dim)\n",
        "        self.linear = nn.Linear(embedding_dim, vocab_size)\n",
        "\n",
        "    def forward(self, inputs):\n",
        "        # TODO: implement the forward function\n",
        "        embeds = self.embeddings(inputs).mean(dim=1)\n",
        "        return self.linear(embeds)\n",
        "\n",
        "    def get_embeddings(self):\n",
        "        # TODO: return the embeddings\n",
        "        return self.embeddings.weight.data.cpu().numpy()\n",
        "\n",
        "    def get_word_emdedding(self, word):\n",
        "        # TODO: return the embedding of the word\n",
        "        word_idx = torch.tensor(word, dtype=torch.long)\n",
        "        return self.embeddings(word_idx)"
      ]
    },
    {
      "cell_type": "code",
      "execution_count": 44,
      "metadata": {
        "id": "SE0qm_urLQDo",
        "colab": {
          "base_uri": "https://localhost:8080/"
        },
        "outputId": "917ffcf0-2b06-44e8-bde5-a414d957d525"
      },
      "outputs": [
        {
          "output_type": "stream",
          "name": "stderr",
          "text": [
            "100%|██████████| 8812/8812 [04:49<00:00, 30.48it/s, Loss=-480]\n"
          ]
        }
      ],
      "source": [
        "from tqdm import tqdm, trange\n",
        "\n",
        "device = torch.device('cuda' if torch.cuda.is_available() else 'cpu')\n",
        "vocab_size = len(words_index)\n",
        "embedding_dim = 2\n",
        "model = CBOW(vocab_size, embedding_dim)\n",
        "model.to(device)\n",
        "\n",
        "# TODO: initialize the loss function\n",
        "loss_function = nn.NLLLoss()\n",
        "# TODO: initialize the optimizer\n",
        "optimizer = torch.optim.Adam(model.parameters(), lr=0.01)\n",
        "\n",
        "total_loss = 0\n",
        "pbar = tqdm(data_loader)\n",
        "for context, target in pbar:\n",
        "    # TODO: move context and target to device\n",
        "    context = context.to(device)\n",
        "    target = target.to(device)\n",
        "\n",
        "    # TODO: zero the gradients\n",
        "    model.zero_grad()\n",
        "    optimizer.zero_grad()\n",
        "\n",
        "    # TODO: forward pass\n",
        "    log_probs = model(context)\n",
        "    loss = loss_function(log_probs, target)\n",
        "\n",
        "    # Backward pass\n",
        "    loss.backward()\n",
        "\n",
        "    # Update parameters\n",
        "    optimizer.step()\n",
        "\n",
        "    # Update total_loss\n",
        "    total_loss += loss.item()\n",
        "\n",
        "    # Update progress bar\n",
        "    pbar.set_postfix({'Loss': total_loss / len(pbar)})"
      ]
    },
    {
      "cell_type": "code",
      "execution_count": 47,
      "metadata": {
        "id": "4smxyx2qLQDo",
        "outputId": "886ec0c1-d16f-46d1-82ca-6caa15106b73",
        "colab": {
          "base_uri": "https://localhost:8080/",
          "height": 448
        }
      },
      "outputs": [
        {
          "output_type": "stream",
          "name": "stdout",
          "text": [
            "(48081, 2)\n"
          ]
        },
        {
          "output_type": "display_data",
          "data": {
            "text/plain": [
              "<Figure size 640x480 with 1 Axes>"
            ],
            "image/png": "[encoded data removed]"
          },
          "metadata": {}
        }
      ],
      "source": [
        "embeddings = model.embeddings.weight.data.cpu().numpy()\n",
        "\n",
        "def plot_word(word):\n",
        "    idx = words_index[word]\n",
        "    # TODO: plot the word vector\n",
        "    plt.scatter(embeddings[idx,0], embeddings[idx,1], color = 'purple')\n",
        "    # add the word label to the plot\n",
        "    plt.annotate(word, (embeddings[idx,0], embeddings[idx,1]))\n",
        "\n",
        "print(embeddings.shape)\n",
        "# plot embeddings\n",
        "plt.scatter(embeddings[:,0], embeddings[:,1], color='orange', s = 1)\n",
        "plot_word('mahdi')\n",
        "plot_word('game')\n",
        "plot_word('baseball')\n",
        "plot_word('evil')\n",
        "plot_word('good')\n",
        "plot_word('friend')"
      ]
    }
  ],
  "metadata": {
    "kernelspec": {
      "display_name": "Python 3",
      "language": "python",
      "name": "python3"
    },
    "language_info": {
      "codemirror_mode": {
        "name": "ipython",
        "version": 3
      },
      "file_extension": ".py",
      "mimetype": "text/x-python",
      "name": "python",
      "nbconvert_exporter": "python",
      "pygments_lexer": "ipython3",
      "version": "3.9.13"
    },
    "colab": {
      "provenance": []
    }
  },
  "nbformat": 4,
  "nbformat_minor": 0
}